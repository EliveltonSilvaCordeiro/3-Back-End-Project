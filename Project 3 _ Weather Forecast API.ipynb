{
 "cells":[
  {
   "cell_type":"code",
   "source":[
    "import requests\n",
    "import json\n",
    "\n",
    "api_key = input(\"Type your API key of Open Weather Map: \")\n",
    "city = input(\"Forecast which city?: \")\n",
    "\n",
    "call_link = f\"https:\/\/api.openweathermap.org\/data\/2.5\/forecast?q={city}&units=imperial&appid={api_key}\"\n",
    "\n",
    "json_requisition = requests.get(call_link)\n",
    "forecast_info = json.loads(json_requisition.text)"
   ],
   "execution_count":1,
   "outputs":[
    
   ],
   "metadata":{
    "datalore":{
     "type":"CODE",
     "hide_input_from_viewers":false,
     "hide_output_from_viewers":false,
     "node_id":"TsQkmQYrrON15etw9gCvqH"
    }
   }
  },
  {
   "cell_type":"code",
   "source":[
    "response_code = forecast_info['cod']\n",
    "\n",
    "if response_code == \"200\":\n",
    "    pass\n",
    "\n",
    "else:\n",
    "    print(f\"\"\"\\nCode Error: {forecast_info['cod']} \\nSee \"https:\/\/openweathermap.org\/faq\" for more details\"\"\")\n",
    "    exit()"
   ],
   "execution_count":2,
   "outputs":[
    
   ],
   "metadata":{
    "datalore":{
     "type":"CODE",
     "hide_input_from_viewers":false,
     "hide_output_from_viewers":false,
     "node_id":"GeRVZomB2Xi9YyXV47ttav"
    }
   }
  },
  {
   "cell_type":"code",
   "source":[
    "import datetime\n",
    "\n",
    "country = forecast_info['city']['country']\n",
    "\n",
    "city = forecast_info['city']['name']\n",
    "\n",
    "city_id = forecast_info['city']['id']\n",
    "\n",
    "latitude, longtude = forecast_info['city']['coord']['lat'], forecast_info['city']['coord']['lon']\n",
    "\n",
    "population = forecast_info['city']['population']\n",
    "\n",
    "timezone = forecast_info['city']['timezone']\/3600\n",
    "\n",
    "#--------------------------------------------------------------------------------------------------\n",
    "\n",
    "def unix_timestamp_conversion (unix_time):\n",
    "    unix = int(unix_time)\n",
    " \n",
    "    date_time = datetime.datetime.fromtimestamp(unix)\n",
    "\n",
    "    converted_time = date_time.strftime('%Y-%m-%d %H:%M:%S')\n",
    "\n",
    "    return converted_time\n",
    "\n",
    "sunrise = unix_timestamp_conversion(forecast_info['city']['sunrise'])\n",
    "\n",
    "sunset = unix_timestamp_conversion(forecast_info['city']['sunset'])\n",
    "\n",
    "#--------------------------------------------------------------------------------------------------\n",
    "\n",
    "def date_and_time (index):\n",
    "    dt_txt_data = forecast_info['list'][index]['dt_txt']\n",
    "    return dt_txt_data\n",
    "\n",
    "def weather (index):\n",
    "    weather_data = forecast_info['list'][index]['weather'][0]['main']\n",
    "    return weather_data\n",
    "\n",
    "def descripition (index):\n",
    "    descripition_data = forecast_info['list'][index]['weather'][0]['description']\n",
    "    return descripition_data\n",
    "\n",
    "#--------------------------------------------------------------------------------------------------\n",
    "\n",
    "def temperature (index):\n",
    "    temperature_data = forecast_info['list'][index]['main']['temp']\n",
    "    return temperature_data\n",
    "\n",
    "def minimal (index):\n",
    "    temp_min_data = forecast_info['list'][index]['main']['temp_min']\n",
    "    return temp_min_data\n",
    "    \n",
    "def maximum (index):\n",
    "    temp_max_data = forecast_info['list'][index]['main']['temp_max']\n",
    "    return temp_max_data\n",
    "\n",
    "def feels_like (index):\n",
    "    fells_like_data = forecast_info['list'][index]['main']['feels_like']\n",
    "    return fells_like_data\n",
    "\n",
    "#--------------------------------------------------------------------------------------------------\n",
    "\n",
    "def clouds (index):\n",
    "    cloads_data = forecast_info['list'][index]['wind']['speed']\n",
    "    return cloads_data\n",
    "\n",
    "def humidity (index):\n",
    "    humidity_data = forecast_info['list'][index]['main']['humidity']\n",
    "    return humidity_data\n",
    "\n",
    "def visibility (index):\n",
    "    visibility_data = forecast_info['list'][index]['visibility']\n",
    "    return visibility_data\n",
    "\n",
    "#--------------------------------------------------------------------------------------------------\n",
    "\n",
    "def wind_spd (index):\n",
    "    wind_speed_data = forecast_info['list'][index]['wind']['speed']\n",
    "    return wind_speed_data\n",
    "\n",
    "def wind_deg (index):\n",
    "    wind_degrees_data = forecast_info['list'][index]['wind']['deg']\n",
    "    return wind_degrees_data\n",
    "\n",
    "def wind_gust (index):\n",
    "    wind_gusts_data = forecast_info['list'][index]['wind']['gust']\n",
    "    return wind_gusts_data\n",
    "\n",
    "#--------------------------------------------------------------------------------------------------\n",
    "\n",
    "def pressure (index):\n",
    "    pressure_data = forecast_info['list'][index]['main']['pressure']\n",
    "    return pressure_data\n",
    "\n",
    "def sea_level (index):\n",
    "    sea_level_data = forecast_info['list'][index]['main']['sea_level']\n",
    "    return sea_level_data\n",
    "\n",
    "def ground_level (index):\n",
    "    ground_level_data = forecast_info['list'][index]['main']['grnd_level']\n",
    "    return ground_level_data"
   ],
   "execution_count":3,
   "outputs":[
    
   ],
   "metadata":{
    "datalore":{
     "type":"CODE",
     "hide_input_from_viewers":false,
     "hide_output_from_viewers":false,
     "node_id":"slUArOniJ5gcLRpBgMK3e7"
    }
   }
  },
  {
   "cell_type":"code",
   "source":[
    "print(f\"\"\"\n",
    "Lat, Lon:     {latitude}, {longtude}\n",
    "          \n",
    "Country:      {country}\n",
    "City:         {city}\n",
    "City ID:      {city_id}\n",
    "\n",
    "Timezone:     {timezone:.0f} hours\n",
    "Population:   {population:,}\n",
    "\n",
    "Sunrise:      {sunrise}\n",
    "Sunset:       {sunset}\n",
    "\"\"\")\n",
    "\n",
    "max_index = len(forecast_info['list'])\n",
    "\n",
    "for recorded_hours in range(1, max_index):\n",
    "    print(f\"\"\"\n",
    "-----------------------------------------\n",
    "-----------{date_and_time(recorded_hours)}-----------\n",
    "-----------------------------------------\n",
    "Weather:            {weather      (recorded_hours)}\n",
    "Descripition:       {descripition (recorded_hours)}\n",
    "Temperature:        {temperature  (recorded_hours)} F°\n",
    "Min and Max Temp:   {minimal      (recorded_hours)} F° - {maximum (recorded_hours)} F°\n",
    "Feels Like:         {feels_like   (recorded_hours)} F°\n",
    "\n",
    "Clouds:             {clouds       (recorded_hours)}%\n",
    "Humidity:           {humidity     (recorded_hours)}%\n",
    "Visibility:         {visibility   (recorded_hours)} mi                                          \n",
    "Wind Speed:         {wind_spd     (recorded_hours)} mph\n",
    "Wind Direction:     {wind_deg     (recorded_hours)}°\n",
    "Wind Gust:          {wind_gust    (recorded_hours)} mph\n",
    "                                        \n",
    "Pressure:           {pressure     (recorded_hours)} hPa\n",
    "Sea Level:          {sea_level    (recorded_hours)} hPa\n",
    "Ground Level:       {ground_level (recorded_hours)} hPa\n",
    "-----------------------------------------\n",
    "\"\"\")"
   ],
   "execution_count":4,
   "outputs":[
    
   ],
   "metadata":{
    "datalore":{
     "type":"CODE",
     "hide_input_from_viewers":false,
     "hide_output_from_viewers":false,
     "node_id":"Bnx0lLMRdeWX5ay79rh8en"
    }
   }
  }
 ],
 "metadata":{
  "kernelspec":{
   "display_name":"Python",
   "language":"python",
   "name":"python"
  },
  "datalore":{
   "version":1,
   "computation_mode":"JUPYTER",
   "package_manager":"pip",
   "base_environment":"default",
   "packages":[
    
   ]
  }
 },
 "nbformat":4,
 "nbformat_minor":4
}